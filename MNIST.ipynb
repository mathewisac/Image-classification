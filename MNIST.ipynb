{
 "cells": [
  {
   "cell_type": "code",
   "execution_count": 2,
   "metadata": {},
   "outputs": [
    {
     "name": "stderr",
     "output_type": "stream",
     "text": [
      "C:\\Users\\mathew\\anaconda3\\envs\\myenv\\lib\\site-packages\\tensorflow\\python\\framework\\dtypes.py:516: FutureWarning: Passing (type, 1) or '1type' as a synonym of type is deprecated; in a future version of numpy, it will be understood as (type, (1,)) / '(1,)type'.\n",
      "  _np_qint8 = np.dtype([(\"qint8\", np.int8, 1)])\n",
      "C:\\Users\\mathew\\anaconda3\\envs\\myenv\\lib\\site-packages\\tensorflow\\python\\framework\\dtypes.py:517: FutureWarning: Passing (type, 1) or '1type' as a synonym of type is deprecated; in a future version of numpy, it will be understood as (type, (1,)) / '(1,)type'.\n",
      "  _np_quint8 = np.dtype([(\"quint8\", np.uint8, 1)])\n",
      "C:\\Users\\mathew\\anaconda3\\envs\\myenv\\lib\\site-packages\\tensorflow\\python\\framework\\dtypes.py:518: FutureWarning: Passing (type, 1) or '1type' as a synonym of type is deprecated; in a future version of numpy, it will be understood as (type, (1,)) / '(1,)type'.\n",
      "  _np_qint16 = np.dtype([(\"qint16\", np.int16, 1)])\n",
      "C:\\Users\\mathew\\anaconda3\\envs\\myenv\\lib\\site-packages\\tensorflow\\python\\framework\\dtypes.py:519: FutureWarning: Passing (type, 1) or '1type' as a synonym of type is deprecated; in a future version of numpy, it will be understood as (type, (1,)) / '(1,)type'.\n",
      "  _np_quint16 = np.dtype([(\"quint16\", np.uint16, 1)])\n",
      "C:\\Users\\mathew\\anaconda3\\envs\\myenv\\lib\\site-packages\\tensorflow\\python\\framework\\dtypes.py:520: FutureWarning: Passing (type, 1) or '1type' as a synonym of type is deprecated; in a future version of numpy, it will be understood as (type, (1,)) / '(1,)type'.\n",
      "  _np_qint32 = np.dtype([(\"qint32\", np.int32, 1)])\n",
      "C:\\Users\\mathew\\anaconda3\\envs\\myenv\\lib\\site-packages\\tensorflow\\python\\framework\\dtypes.py:525: FutureWarning: Passing (type, 1) or '1type' as a synonym of type is deprecated; in a future version of numpy, it will be understood as (type, (1,)) / '(1,)type'.\n",
      "  np_resource = np.dtype([(\"resource\", np.ubyte, 1)])\n",
      "C:\\Users\\mathew\\anaconda3\\envs\\myenv\\lib\\site-packages\\tensorboard\\compat\\tensorflow_stub\\dtypes.py:541: FutureWarning: Passing (type, 1) or '1type' as a synonym of type is deprecated; in a future version of numpy, it will be understood as (type, (1,)) / '(1,)type'.\n",
      "  _np_qint8 = np.dtype([(\"qint8\", np.int8, 1)])\n",
      "C:\\Users\\mathew\\anaconda3\\envs\\myenv\\lib\\site-packages\\tensorboard\\compat\\tensorflow_stub\\dtypes.py:542: FutureWarning: Passing (type, 1) or '1type' as a synonym of type is deprecated; in a future version of numpy, it will be understood as (type, (1,)) / '(1,)type'.\n",
      "  _np_quint8 = np.dtype([(\"quint8\", np.uint8, 1)])\n",
      "C:\\Users\\mathew\\anaconda3\\envs\\myenv\\lib\\site-packages\\tensorboard\\compat\\tensorflow_stub\\dtypes.py:543: FutureWarning: Passing (type, 1) or '1type' as a synonym of type is deprecated; in a future version of numpy, it will be understood as (type, (1,)) / '(1,)type'.\n",
      "  _np_qint16 = np.dtype([(\"qint16\", np.int16, 1)])\n",
      "C:\\Users\\mathew\\anaconda3\\envs\\myenv\\lib\\site-packages\\tensorboard\\compat\\tensorflow_stub\\dtypes.py:544: FutureWarning: Passing (type, 1) or '1type' as a synonym of type is deprecated; in a future version of numpy, it will be understood as (type, (1,)) / '(1,)type'.\n",
      "  _np_quint16 = np.dtype([(\"quint16\", np.uint16, 1)])\n",
      "C:\\Users\\mathew\\anaconda3\\envs\\myenv\\lib\\site-packages\\tensorboard\\compat\\tensorflow_stub\\dtypes.py:545: FutureWarning: Passing (type, 1) or '1type' as a synonym of type is deprecated; in a future version of numpy, it will be understood as (type, (1,)) / '(1,)type'.\n",
      "  _np_qint32 = np.dtype([(\"qint32\", np.int32, 1)])\n",
      "C:\\Users\\mathew\\anaconda3\\envs\\myenv\\lib\\site-packages\\tensorboard\\compat\\tensorflow_stub\\dtypes.py:550: FutureWarning: Passing (type, 1) or '1type' as a synonym of type is deprecated; in a future version of numpy, it will be understood as (type, (1,)) / '(1,)type'.\n",
      "  np_resource = np.dtype([(\"resource\", np.ubyte, 1)])\n",
      "Using TensorFlow backend.\n"
     ]
    }
   ],
   "source": [
    "import numpy as np\n",
    "import pandas as pd\n",
    "import matplotlib.pyplot as plt\n",
    "import itertools\n",
    "\n",
    "from sklearn.model_selection import train_test_split\n",
    "from sklearn.utils import shuffle\n",
    "from sklearn.metrics import confusion_matrix, classification_report\n",
    "import tensorflow as tf\n",
    "from tensorflow import keras\n",
    "from keras.models import Sequential\n",
    "from keras.utils import to_categorical\n",
    "from keras.utils.vis_utils import plot_model\n",
    "from keras.optimizers import Adam\n",
    "from keras.layers import Dense, Activation, Dropout, Flatten, Conv2D, MaxPooling2D, BatchNormalization, ZeroPadding2D\n",
    "from keras.preprocessing.image import ImageDataGenerator\n",
    "from keras.callbacks import EarlyStopping"
   ]
  },
  {
   "cell_type": "code",
   "execution_count": 3,
   "metadata": {},
   "outputs": [],
   "source": [
    "fashion_mnist=keras.datasets.fashion_mnist"
   ]
  },
  {
   "cell_type": "code",
   "execution_count": 4,
   "metadata": {},
   "outputs": [],
   "source": [
    "(train_images,train_labels),(test_images,test_labels)=fashion_mnist.load_data()"
   ]
  },
  {
   "cell_type": "code",
   "execution_count": 5,
   "metadata": {},
   "outputs": [
    {
     "data": {
      "text/plain": [
       "(10000, 28, 28)"
      ]
     },
     "execution_count": 5,
     "metadata": {},
     "output_type": "execute_result"
    }
   ],
   "source": [
    "test_images.shape"
   ]
  },
  {
   "cell_type": "code",
   "execution_count": 28,
   "metadata": {},
   "outputs": [],
   "source": [
    "train_data=train_images.reshape(60000,784)"
   ]
  },
  {
   "cell_type": "code",
   "execution_count": 29,
   "metadata": {},
   "outputs": [],
   "source": [
    "test_data=test_images.reshape(10000,784)"
   ]
  },
  {
   "cell_type": "code",
   "execution_count": 56,
   "metadata": {},
   "outputs": [
    {
     "data": {
      "text/plain": [
       "(60000,)"
      ]
     },
     "execution_count": 56,
     "metadata": {},
     "output_type": "execute_result"
    }
   ],
   "source": [
    "X_train1=train_data/255\n",
    "X_test=test_data/255\n",
    "y_train1=train_labels\n",
    "y_train1.shape"
   ]
  },
  {
   "cell_type": "code",
   "execution_count": 57,
   "metadata": {},
   "outputs": [],
   "source": [
    "X_train, X_validate, y_train, y_validate = train_test_split(X_train1, y_train1, test_size = 0.2, random_state=0)\n"
   ]
  },
  {
   "cell_type": "code",
   "execution_count": 58,
   "metadata": {},
   "outputs": [
    {
     "data": {
      "text/plain": [
       "(48000,)"
      ]
     },
     "execution_count": 58,
     "metadata": {},
     "output_type": "execute_result"
    }
   ],
   "source": [
    "y_train.shape"
   ]
  },
  {
   "cell_type": "code",
   "execution_count": 33,
   "metadata": {},
   "outputs": [
    {
     "data": {
      "image/png": "[encoded data removed]",
      "text/plain": [
       "<Figure size 1296x432 with 4 Axes>"
      ]
     },
     "metadata": {
      "needs_background": "light"
     },
     "output_type": "display_data"
    }
   ],
   "source": [
    "# Lets check some images\n",
    "plt.figure(figsize = (18,6))\n",
    "\n",
    "plt.subplot(141)\n",
    "image = X_train[49].reshape(28, 28)\n",
    "plt.imshow(image)\n",
    "\n",
    "plt.subplot(142)\n",
    "image = X_train[3].reshape(28, 28)\n",
    "plt.imshow(image)\n",
    "\n",
    "plt.subplot(143)\n",
    "image = X_train[6].reshape(28, 28)\n",
    "plt.imshow(image)\n",
    "\n",
    "plt.subplot(144)\n",
    "image = X_train[8].reshape(28, 28)\n",
    "plt.imshow(image)\n",
    "plt.show()"
   ]
  },
  {
   "cell_type": "code",
   "execution_count": 34,
   "metadata": {},
   "outputs": [],
   "source": [
    "\n",
    "n_cols = X_train.shape[1]\n",
    "model = Sequential()\n",
    "\n",
    "model.add(Dense(512, activation='relu', input_shape=(n_cols,)))\n",
    "model.add(Dense(128, activation='relu'))\n",
    "model.add(Dense(10, activation='softmax'))"
   ]
  },
  {
   "cell_type": "code",
   "execution_count": 35,
   "metadata": {},
   "outputs": [
    {
     "name": "stdout",
     "output_type": "stream",
     "text": [
      "Model: \"sequential_4\"\n",
      "_________________________________________________________________\n",
      "Layer (type)                 Output Shape              Param #   \n",
      "=================================================================\n",
      "dense_6 (Dense)              (None, 512)               401920    \n",
      "_________________________________________________________________\n",
      "dense_7 (Dense)              (None, 128)               65664     \n",
      "_________________________________________________________________\n",
      "dense_8 (Dense)              (None, 10)                1290      \n",
      "=================================================================\n",
      "Total params: 468,874\n",
      "Trainable params: 468,874\n",
      "Non-trainable params: 0\n",
      "_________________________________________________________________\n"
     ]
    }
   ],
   "source": [
    "model.summary()"
   ]
  },
  {
   "cell_type": "code",
   "execution_count": 36,
   "metadata": {},
   "outputs": [],
   "source": [
    "model.compile(optimizer=Adam(lr = 0.0001),\n",
    "              loss='sparse_categorical_crossentropy', \n",
    "              metrics = ['accuracy'])"
   ]
  },
  {
   "cell_type": "code",
   "execution_count": 37,
   "metadata": {},
   "outputs": [
    {
     "name": "stdout",
     "output_type": "stream",
     "text": [
      "Train on 48000 samples, validate on 12000 samples\n",
      "Epoch 1/20\n",
      "48000/48000 [==============================] - 6s 132us/step - loss: 0.9962 - accuracy: 0.6902 - val_loss: 0.5931 - val_accuracy: 0.8039\n",
      "Epoch 2/20\n",
      "48000/48000 [==============================] - 5s 101us/step - loss: 0.5232 - accuracy: 0.8267 - val_loss: 0.4810 - val_accuracy: 0.8368\n",
      "Epoch 3/20\n",
      "48000/48000 [==============================] - 5s 110us/step - loss: 0.4549 - accuracy: 0.8458 - val_loss: 0.4572 - val_accuracy: 0.8393\n",
      "Epoch 4/20\n",
      "48000/48000 [==============================] - 5s 107us/step - loss: 0.4202 - accuracy: 0.8561 - val_loss: 0.4179 - val_accuracy: 0.8562\n",
      "Epoch 5/20\n",
      "48000/48000 [==============================] - 5s 108us/step - loss: 0.3983 - accuracy: 0.8624 - val_loss: 0.4009 - val_accuracy: 0.8593\n",
      "Epoch 6/20\n",
      "48000/48000 [==============================] - 6s 120us/step - loss: 0.3814 - accuracy: 0.8693 - val_loss: 0.3974 - val_accuracy: 0.8637\n",
      "Epoch 7/20\n",
      "48000/48000 [==============================] - 5s 114us/step - loss: 0.3676 - accuracy: 0.8717 - val_loss: 0.3758 - val_accuracy: 0.8700\n",
      "Epoch 8/20\n",
      "48000/48000 [==============================] - 5s 105us/step - loss: 0.3540 - accuracy: 0.8771 - val_loss: 0.3677 - val_accuracy: 0.8711\n",
      "Epoch 9/20\n",
      "48000/48000 [==============================] - 6s 120us/step - loss: 0.3465 - accuracy: 0.8796 - val_loss: 0.3629 - val_accuracy: 0.8756\n",
      "Epoch 10/20\n",
      "48000/48000 [==============================] - 6s 119us/step - loss: 0.3357 - accuracy: 0.8822 - val_loss: 0.3572 - val_accuracy: 0.8770\n",
      "Epoch 11/20\n",
      "48000/48000 [==============================] - 5s 111us/step - loss: 0.3265 - accuracy: 0.8851 - val_loss: 0.3518 - val_accuracy: 0.8791\n",
      "Epoch 12/20\n",
      "48000/48000 [==============================] - 7s 145us/step - loss: 0.3195 - accuracy: 0.8875 - val_loss: 0.3444 - val_accuracy: 0.8808\n",
      "Epoch 13/20\n",
      "48000/48000 [==============================] - 5s 113us/step - loss: 0.3132 - accuracy: 0.8909 - val_loss: 0.3372 - val_accuracy: 0.8839\n",
      "Epoch 14/20\n",
      "48000/48000 [==============================] - 5s 97us/step - loss: 0.3068 - accuracy: 0.8921 - val_loss: 0.3347 - val_accuracy: 0.8805\n",
      "Epoch 15/20\n",
      "48000/48000 [==============================] - 7s 154us/step - loss: 0.2999 - accuracy: 0.8937 - val_loss: 0.3331 - val_accuracy: 0.8843\n",
      "Epoch 16/20\n",
      "48000/48000 [==============================] - 5s 113us/step - loss: 0.2934 - accuracy: 0.8969 - val_loss: 0.3356 - val_accuracy: 0.8830\n",
      "Epoch 17/20\n",
      "48000/48000 [==============================] - 8s 173us/step - loss: 0.2864 - accuracy: 0.8990 - val_loss: 0.3295 - val_accuracy: 0.8864\n",
      "Epoch 18/20\n",
      "48000/48000 [==============================] - 5s 113us/step - loss: 0.2820 - accuracy: 0.9009 - val_loss: 0.3212 - val_accuracy: 0.8882\n",
      "Epoch 19/20\n",
      "48000/48000 [==============================] - 5s 101us/step - loss: 0.2762 - accuracy: 0.9029 - val_loss: 0.3210 - val_accuracy: 0.8873\n",
      "Epoch 20/20\n",
      "48000/48000 [==============================] - 5s 110us/step - loss: 0.2720 - accuracy: 0.9036 - val_loss: 0.3196 - val_accuracy: 0.8848\n"
     ]
    }
   ],
   "source": [
    "model_1 = model.fit(X_train, y_train,\n",
    "                    batch_size=300,\n",
    "                    epochs = 20,\n",
    "                    verbose=1,\n",
    "                    validation_data=(X_validate, y_validate))"
   ]
  },
  {
   "cell_type": "code",
   "execution_count": 38,
   "metadata": {},
   "outputs": [
    {
     "name": "stdout",
     "output_type": "stream",
     "text": [
      "Test loss: 0.34707554030418397\n",
      "Test accuracy: 87.55999803543091\n"
     ]
    }
   ],
   "source": [
    "X_Test=test_images.reshape(10000,784)\n",
    "Y_Test=test_labels\n",
    "score = model.evaluate(X_Test/255,Y_Test, verbose=0)\n",
    "print('Test loss:', score[0])\n",
    "print('Test accuracy:', score[1]*100)"
   ]
  },
  {
   "cell_type": "code",
   "execution_count": 59,
   "metadata": {},
   "outputs": [
    {
     "name": "stdout",
     "output_type": "stream",
     "text": [
      "x_train shape: (48000, 28, 28, 1)\n",
      "x_test shape: (10000, 28, 28, 1)\n",
      "x_validate shape: (12000, 28, 28, 1)\n"
     ]
    }
   ],
   "source": [
    "image_rows = 28\n",
    "image_cols = 28\n",
    "input_shape = (image_rows, image_cols, 1)\n",
    "\n",
    "X_train = X_train.reshape(X_train.shape[0], image_rows, image_cols, 1)\n",
    "X_Test = X_Test.reshape(X_Test.shape[0], image_rows, image_cols, 1)\n",
    "X_validate = X_validate.reshape(X_validate.shape[0], image_rows, image_cols, 1)\n",
    "\n",
    "print('x_train shape: {}'.format(X_train.shape))\n",
    "print('x_test shape: {}'.format(X_Test.shape))\n",
    "print('x_validate shape: {}'.format(X_validate.shape))"
   ]
  },
  {
   "cell_type": "code",
   "execution_count": 60,
   "metadata": {},
   "outputs": [],
   "source": [
    "# One-hot encoding\n",
    "y_train = to_categorical(y_train, 10)\n",
    "y_validate = to_categorical(y_validate, 10)\n",
    "y_Test = to_categorical(Y_Test, 10)"
   ]
  },
  {
   "cell_type": "code",
   "execution_count": 61,
   "metadata": {},
   "outputs": [],
   "source": [
    "\n",
    "cnn_model = Sequential()\n",
    "\n",
    "cnn_model.add(Conv2D(32, kernel_size=(3, 3), activation='relu', input_shape=input_shape))\n",
    "cnn_model.add(MaxPooling2D(pool_size=(2, 2)))\n",
    "\n",
    "cnn_model.add(Dropout(0.25))\n",
    "\n",
    "cnn_model.add(Flatten()) \n",
    "\n",
    "cnn_model.add(Dense(128, activation='relu'))\n",
    "cnn_model.add(Dropout(0.3))\n",
    "\n",
    "cnn_model.add(Dense(10, activation='softmax'))"
   ]
  },
  {
   "cell_type": "code",
   "execution_count": 62,
   "metadata": {},
   "outputs": [],
   "source": [
    "cnn_model.compile(optimizer= Adam(lr= 0.0001),\n",
    "          loss='categorical_crossentropy',\n",
    "          metrics=['accuracy'])"
   ]
  },
  {
   "cell_type": "code",
   "execution_count": 63,
   "metadata": {},
   "outputs": [
    {
     "name": "stdout",
     "output_type": "stream",
     "text": [
      "Model: \"sequential_8\"\n",
      "_________________________________________________________________\n",
      "Layer (type)                 Output Shape              Param #   \n",
      "=================================================================\n",
      "conv2d_5 (Conv2D)            (None, 26, 26, 32)        320       \n",
      "_________________________________________________________________\n",
      "max_pooling2d_5 (MaxPooling2 (None, 13, 13, 32)        0         \n",
      "_________________________________________________________________\n",
      "dropout_9 (Dropout)          (None, 13, 13, 32)        0         \n",
      "_________________________________________________________________\n",
      "flatten_5 (Flatten)          (None, 5408)              0         \n",
      "_________________________________________________________________\n",
      "dense_15 (Dense)             (None, 128)               692352    \n",
      "_________________________________________________________________\n",
      "dropout_10 (Dropout)         (None, 128)               0         \n",
      "_________________________________________________________________\n",
      "dense_16 (Dense)             (None, 10)                1290      \n",
      "=================================================================\n",
      "Total params: 693,962\n",
      "Trainable params: 693,962\n",
      "Non-trainable params: 0\n",
      "_________________________________________________________________\n"
     ]
    }
   ],
   "source": [
    "cnn_model.summary()"
   ]
  },
  {
   "cell_type": "code",
   "execution_count": 64,
   "metadata": {},
   "outputs": [
    {
     "name": "stdout",
     "output_type": "stream",
     "text": [
      "Train on 48000 samples, validate on 12000 samples\n",
      "Epoch 1/50\n",
      "48000/48000 [==============================] - 37s 776us/step - loss: 1.1826 - accuracy: 0.6259 - val_loss: 0.6532 - val_accuracy: 0.7813\n",
      "Epoch 2/50\n",
      "48000/48000 [==============================] - 37s 771us/step - loss: 0.6437 - accuracy: 0.7802 - val_loss: 0.5269 - val_accuracy: 0.8208\n",
      "Epoch 3/50\n",
      "48000/48000 [==============================] - 36s 751us/step - loss: 0.5443 - accuracy: 0.8112 - val_loss: 0.4643 - val_accuracy: 0.8417\n",
      "Epoch 4/50\n",
      "48000/48000 [==============================] - 37s 761us/step - loss: 0.4917 - accuracy: 0.8295 - val_loss: 0.4316 - val_accuracy: 0.8521\n",
      "Epoch 5/50\n",
      "48000/48000 [==============================] - 47s 975us/step - loss: 0.4617 - accuracy: 0.8396 - val_loss: 0.4105 - val_accuracy: 0.8593\n",
      "Epoch 6/50\n",
      "48000/48000 [==============================] - 46s 962us/step - loss: 0.4347 - accuracy: 0.8490 - val_loss: 0.3893 - val_accuracy: 0.8652\n",
      "Epoch 7/50\n",
      "48000/48000 [==============================] - 38s 797us/step - loss: 0.4131 - accuracy: 0.8558 - val_loss: 0.3767 - val_accuracy: 0.8709\n",
      "Epoch 8/50\n",
      "48000/48000 [==============================] - 47s 979us/step - loss: 0.4011 - accuracy: 0.8610 - val_loss: 0.3644 - val_accuracy: 0.8725\n",
      "Epoch 9/50\n",
      "48000/48000 [==============================] - 46s 965us/step - loss: 0.3879 - accuracy: 0.8637 - val_loss: 0.3555 - val_accuracy: 0.8746\n",
      "Epoch 10/50\n",
      "48000/48000 [==============================] - 41s 844us/step - loss: 0.3775 - accuracy: 0.8662 - val_loss: 0.3484 - val_accuracy: 0.8766\n",
      "Epoch 11/50\n",
      "48000/48000 [==============================] - 38s 800us/step - loss: 0.3662 - accuracy: 0.8724 - val_loss: 0.3410 - val_accuracy: 0.8801\n",
      "Epoch 12/50\n",
      "48000/48000 [==============================] - 41s 851us/step - loss: 0.3574 - accuracy: 0.8746 - val_loss: 0.3316 - val_accuracy: 0.8836\n",
      "Epoch 13/50\n",
      "48000/48000 [==============================] - 42s 872us/step - loss: 0.3505 - accuracy: 0.8771 - val_loss: 0.3268 - val_accuracy: 0.8850\n",
      "Epoch 14/50\n",
      "48000/48000 [==============================] - 37s 770us/step - loss: 0.3446 - accuracy: 0.8796 - val_loss: 0.3225 - val_accuracy: 0.8858\n",
      "Epoch 15/50\n",
      "48000/48000 [==============================] - 39s 814us/step - loss: 0.3377 - accuracy: 0.8801 - val_loss: 0.3162 - val_accuracy: 0.8884\n",
      "Epoch 16/50\n",
      "48000/48000 [==============================] - 40s 842us/step - loss: 0.3313 - accuracy: 0.8835 - val_loss: 0.3129 - val_accuracy: 0.8890\n",
      "Epoch 17/50\n",
      "48000/48000 [==============================] - 42s 880us/step - loss: 0.3257 - accuracy: 0.8852 - val_loss: 0.3097 - val_accuracy: 0.8885\n",
      "Epoch 18/50\n",
      "48000/48000 [==============================] - 45s 941us/step - loss: 0.3212 - accuracy: 0.8859 - val_loss: 0.3065 - val_accuracy: 0.8918\n",
      "Epoch 19/50\n",
      "48000/48000 [==============================] - 41s 860us/step - loss: 0.3139 - accuracy: 0.8884 - val_loss: 0.3029 - val_accuracy: 0.8931\n",
      "Epoch 20/50\n",
      "48000/48000 [==============================] - 39s 818us/step - loss: 0.3145 - accuracy: 0.8884 - val_loss: 0.3010 - val_accuracy: 0.8913\n",
      "Epoch 21/50\n",
      "48000/48000 [==============================] - 37s 781us/step - loss: 0.3080 - accuracy: 0.8902 - val_loss: 0.2962 - val_accuracy: 0.8958\n",
      "Epoch 22/50\n",
      "48000/48000 [==============================] - 37s 763us/step - loss: 0.3038 - accuracy: 0.8914 - val_loss: 0.2926 - val_accuracy: 0.8963\n",
      "Epoch 23/50\n",
      "48000/48000 [==============================] - 36s 760us/step - loss: 0.2988 - accuracy: 0.8923 - val_loss: 0.2906 - val_accuracy: 0.8966\n",
      "Epoch 24/50\n",
      "48000/48000 [==============================] - 36s 760us/step - loss: 0.2951 - accuracy: 0.8947 - val_loss: 0.2871 - val_accuracy: 0.8972\n",
      "Epoch 25/50\n",
      "48000/48000 [==============================] - 37s 762us/step - loss: 0.2915 - accuracy: 0.8955 - val_loss: 0.2873 - val_accuracy: 0.8957\n",
      "Epoch 26/50\n",
      "48000/48000 [==============================] - 37s 775us/step - loss: 0.2879 - accuracy: 0.8983 - val_loss: 0.2846 - val_accuracy: 0.8967\n",
      "Epoch 27/50\n",
      "48000/48000 [==============================] - 37s 775us/step - loss: 0.2838 - accuracy: 0.8980 - val_loss: 0.2813 - val_accuracy: 0.8991\n",
      "Epoch 28/50\n",
      "48000/48000 [==============================] - 37s 764us/step - loss: 0.2810 - accuracy: 0.8994 - val_loss: 0.2775 - val_accuracy: 0.9014\n",
      "Epoch 29/50\n",
      "48000/48000 [==============================] - 36s 757us/step - loss: 0.2791 - accuracy: 0.9010 - val_loss: 0.2752 - val_accuracy: 0.9016\n",
      "Epoch 30/50\n",
      "48000/48000 [==============================] - 37s 765us/step - loss: 0.2752 - accuracy: 0.9023 - val_loss: 0.2745 - val_accuracy: 0.9007\n",
      "Epoch 31/50\n",
      "48000/48000 [==============================] - 40s 823us/step - loss: 0.2695 - accuracy: 0.9044 - val_loss: 0.2738 - val_accuracy: 0.9017\n",
      "Epoch 32/50\n",
      "48000/48000 [==============================] - 36s 758us/step - loss: 0.2702 - accuracy: 0.9030 - val_loss: 0.2701 - val_accuracy: 0.9029\n",
      "Epoch 33/50\n",
      "48000/48000 [==============================] - 36s 755us/step - loss: 0.2662 - accuracy: 0.9040 - val_loss: 0.2678 - val_accuracy: 0.9037\n",
      "Epoch 34/50\n",
      "48000/48000 [==============================] - 37s 766us/step - loss: 0.2646 - accuracy: 0.9053 - val_loss: 0.2685 - val_accuracy: 0.9032\n",
      "Epoch 35/50\n",
      "48000/48000 [==============================] - 36s 758us/step - loss: 0.2615 - accuracy: 0.9056 - val_loss: 0.2650 - val_accuracy: 0.9044\n",
      "Epoch 36/50\n",
      "48000/48000 [==============================] - 37s 762us/step - loss: 0.2600 - accuracy: 0.9067 - val_loss: 0.2633 - val_accuracy: 0.9058\n",
      "Epoch 37/50\n",
      "48000/48000 [==============================] - 37s 775us/step - loss: 0.2570 - accuracy: 0.9061 - val_loss: 0.2634 - val_accuracy: 0.9056\n",
      "Epoch 38/50\n",
      "48000/48000 [==============================] - 37s 765us/step - loss: 0.2561 - accuracy: 0.9082 - val_loss: 0.2620 - val_accuracy: 0.9068\n",
      "Epoch 39/50\n",
      "48000/48000 [==============================] - 37s 774us/step - loss: 0.2510 - accuracy: 0.9100 - val_loss: 0.2597 - val_accuracy: 0.9070\n",
      "Epoch 40/50\n",
      "48000/48000 [==============================] - 37s 761us/step - loss: 0.2509 - accuracy: 0.9090 - val_loss: 0.2592 - val_accuracy: 0.9078\n",
      "Epoch 41/50\n",
      "48000/48000 [==============================] - 37s 775us/step - loss: 0.2507 - accuracy: 0.9093 - val_loss: 0.2575 - val_accuracy: 0.9080\n",
      "Epoch 42/50\n",
      "48000/48000 [==============================] - 37s 764us/step - loss: 0.2462 - accuracy: 0.9116 - val_loss: 0.2576 - val_accuracy: 0.9074\n",
      "Epoch 43/50\n",
      "48000/48000 [==============================] - 37s 774us/step - loss: 0.2407 - accuracy: 0.9139 - val_loss: 0.2540 - val_accuracy: 0.9089\n",
      "Epoch 44/50\n",
      "48000/48000 [==============================] - 37s 774us/step - loss: 0.2415 - accuracy: 0.9134 - val_loss: 0.2537 - val_accuracy: 0.9099\n",
      "Epoch 45/50\n",
      "48000/48000 [==============================] - 36s 760us/step - loss: 0.2385 - accuracy: 0.9154 - val_loss: 0.2514 - val_accuracy: 0.9100\n",
      "Epoch 46/50\n",
      "48000/48000 [==============================] - 37s 762us/step - loss: 0.2386 - accuracy: 0.9141 - val_loss: 0.2541 - val_accuracy: 0.9090\n",
      "Epoch 47/50\n",
      "48000/48000 [==============================] - 37s 768us/step - loss: 0.2348 - accuracy: 0.9151 - val_loss: 0.2517 - val_accuracy: 0.9094\n",
      "Epoch 48/50\n",
      "48000/48000 [==============================] - 37s 773us/step - loss: 0.2318 - accuracy: 0.9156 - val_loss: 0.2490 - val_accuracy: 0.9114\n",
      "Epoch 49/50\n",
      "48000/48000 [==============================] - 38s 782us/step - loss: 0.2281 - accuracy: 0.9175 - val_loss: 0.2499 - val_accuracy: 0.9093\n",
      "Epoch 50/50\n",
      "48000/48000 [==============================] - 37s 767us/step - loss: 0.2285 - accuracy: 0.9186 - val_loss: 0.2477 - val_accuracy: 0.9126\n"
     ]
    }
   ],
   "source": [
    "history = cnn_model.fit(X_train, y_train,\n",
    "          batch_size=300,\n",
    "          epochs=50,\n",
    "          verbose=1,\n",
    "          validation_data=(X_validate, y_validate))"
   ]
  },
  {
   "cell_type": "code",
   "execution_count": 69,
   "metadata": {},
   "outputs": [
    {
     "name": "stdout",
     "output_type": "stream",
     "text": [
      "Test loss: 37.605051327943805\n",
      "Test accuracy: 86.489999294281\n"
     ]
    }
   ],
   "source": [
    "X_test=X_Test.reshape(10000,28,28,1)\n",
    "score = cnn_model.evaluate(X_test, y_Test, verbose=0)\n",
    "print('Test loss:', score[0])\n",
    "print('Test accuracy:', score[1]*100)"
   ]
  },
  {
   "cell_type": "code",
   "execution_count": 72,
   "metadata": {},
   "outputs": [
    {
     "data": {
      "image/png": "[encoded data removed]",
      "text/plain": [
       "<Figure size 1296x576 with 2 Axes>"
      ]
     },
     "metadata": {
      "needs_background": "light"
     },
     "output_type": "display_data"
    }
   ],
   "source": [
    "plt.figure(figsize = (18,8))\n",
    "plt.subplot(121)\n",
    "plt.plot(history.history['loss'], color='darkcyan', label=\"Training loss\")\n",
    "plt.plot(history.history['val_loss'], color='maroon', label=\"validation loss\",)\n",
    "plt.xlabel('Epochs')\n",
    "plt.ylabel('loss')\n",
    "plt.legend(loc='best', shadow=True)\n",
    "plt.title('1-Convolution Layer Loss')\n",
    "plt.subplot(122)\n",
    "plt.plot(history.history['accuracy'], color='darkcyan', label=\"Training accuracy\")\n",
    "plt.plot(history.history['val_accuracy'], color='maroon',label=\"Validation accuracy\")\n",
    "plt.xlabel('Epochs')\n",
    "plt.ylabel('accuracy')\n",
    "plt.legend(loc='best', shadow=True)\n",
    "plt.title('1-Convolution Layer Accuracy')\n",
    "plt.show()"
   ]
  },
  {
   "cell_type": "code",
   "execution_count": 73,
   "metadata": {},
   "outputs": [],
   "source": [
    "cnn_model_2 = Sequential()\n",
    "\n",
    "cnn_model_2.add(Conv2D(32, kernel_size=(3, 3), activation='relu', input_shape=input_shape))\n",
    "cnn_model_2.add(Dropout(0.2))\n",
    "cnn_model_2.add(Conv2D(64, kernel_size=(3, 3), activation='relu'))\n",
    "cnn_model_2.add(MaxPooling2D(pool_size=(2, 2)))\n",
    "\n",
    "cnn_model_2.add(Dropout(0.3))\n",
    "cnn_model_2.add(Flatten())\n",
    "\n",
    "cnn_model_2.add(Dense(64, activation='relu'))\n",
    "model.add(Dropout(0.3))\n",
    "cnn_model_2.add(Dense(128, activation='relu'))\n",
    "model.add(Dropout(0.3))\n",
    "\n",
    "cnn_model_2.add(Dense(10, activation='softmax'))"
   ]
  },
  {
   "cell_type": "code",
   "execution_count": 74,
   "metadata": {},
   "outputs": [
    {
     "name": "stdout",
     "output_type": "stream",
     "text": [
      "Model: \"sequential_9\"\n",
      "_________________________________________________________________\n",
      "Layer (type)                 Output Shape              Param #   \n",
      "=================================================================\n",
      "conv2d_6 (Conv2D)            (None, 26, 26, 32)        320       \n",
      "_________________________________________________________________\n",
      "dropout_11 (Dropout)         (None, 26, 26, 32)        0         \n",
      "_________________________________________________________________\n",
      "conv2d_7 (Conv2D)            (None, 24, 24, 64)        18496     \n",
      "_________________________________________________________________\n",
      "max_pooling2d_6 (MaxPooling2 (None, 12, 12, 64)        0         \n",
      "_________________________________________________________________\n",
      "dropout_12 (Dropout)         (None, 12, 12, 64)        0         \n",
      "_________________________________________________________________\n",
      "flatten_6 (Flatten)          (None, 9216)              0         \n",
      "_________________________________________________________________\n",
      "dense_17 (Dense)             (None, 64)                589888    \n",
      "_________________________________________________________________\n",
      "dense_18 (Dense)             (None, 128)               8320      \n",
      "_________________________________________________________________\n",
      "dense_19 (Dense)             (None, 10)                1290      \n",
      "=================================================================\n",
      "Total params: 618,314\n",
      "Trainable params: 618,314\n",
      "Non-trainable params: 0\n",
      "_________________________________________________________________\n"
     ]
    }
   ],
   "source": [
    "cnn_model_2.summary()"
   ]
  },
  {
   "cell_type": "code",
   "execution_count": 76,
   "metadata": {},
   "outputs": [],
   "source": [
    "cnn_model_2.compile(optimizer= Adam(lr= 0.0001),\n",
    "          loss='categorical_crossentropy',\n",
    "          metrics=['accuracy'])"
   ]
  },
  {
   "cell_type": "code",
   "execution_count": 77,
   "metadata": {},
   "outputs": [],
   "source": [
    "early_stopping_monitor = EarlyStopping(patience = 3)"
   ]
  },
  {
   "cell_type": "code",
   "execution_count": 78,
   "metadata": {},
   "outputs": [
    {
     "name": "stdout",
     "output_type": "stream",
     "text": [
      "Train on 48000 samples, validate on 12000 samples\n",
      "Epoch 1/50\n",
      "48000/48000 [==============================] - 155s 3ms/step - loss: 1.1413 - accuracy: 0.6198 - val_loss: 0.6449 - val_accuracy: 0.7662\n",
      "Epoch 2/50\n",
      "48000/48000 [==============================] - 156s 3ms/step - loss: 0.5704 - accuracy: 0.7893 - val_loss: 0.5291 - val_accuracy: 0.8096\n",
      "Epoch 3/50\n",
      "48000/48000 [==============================] - 153s 3ms/step - loss: 0.4973 - accuracy: 0.8164 - val_loss: 0.4674 - val_accuracy: 0.8321\n",
      "Epoch 4/50\n",
      "48000/48000 [==============================] - 153s 3ms/step - loss: 0.4592 - accuracy: 0.8366 - val_loss: 0.4405 - val_accuracy: 0.8441\n",
      "Epoch 5/50\n",
      "48000/48000 [==============================] - 153s 3ms/step - loss: 0.4310 - accuracy: 0.8483 - val_loss: 0.4131 - val_accuracy: 0.8602\n",
      "Epoch 6/50\n",
      "48000/48000 [==============================] - 153s 3ms/step - loss: 0.4136 - accuracy: 0.8530 - val_loss: 0.4018 - val_accuracy: 0.8614\n",
      "Epoch 7/50\n",
      "48000/48000 [==============================] - 153s 3ms/step - loss: 0.3996 - accuracy: 0.8584 - val_loss: 0.3897 - val_accuracy: 0.8667\n",
      "Epoch 8/50\n",
      "48000/48000 [==============================] - 165s 3ms/step - loss: 0.3872 - accuracy: 0.8633 - val_loss: 0.3760 - val_accuracy: 0.8712\n",
      "Epoch 9/50\n",
      "48000/48000 [==============================] - 154s 3ms/step - loss: 0.3774 - accuracy: 0.8666 - val_loss: 0.3654 - val_accuracy: 0.8747\n",
      "Epoch 10/50\n",
      "48000/48000 [==============================] - 154s 3ms/step - loss: 0.3685 - accuracy: 0.8693 - val_loss: 0.3619 - val_accuracy: 0.8748\n",
      "Epoch 11/50\n",
      "48000/48000 [==============================] - 153s 3ms/step - loss: 0.3586 - accuracy: 0.8725 - val_loss: 0.3631 - val_accuracy: 0.8709\n",
      "Epoch 12/50\n",
      "48000/48000 [==============================] - 155s 3ms/step - loss: 0.3503 - accuracy: 0.8766 - val_loss: 0.3479 - val_accuracy: 0.8783\n",
      "Epoch 13/50\n",
      "48000/48000 [==============================] - 153s 3ms/step - loss: 0.3418 - accuracy: 0.8793 - val_loss: 0.3392 - val_accuracy: 0.8839\n",
      "Epoch 14/50\n",
      "48000/48000 [==============================] - 154s 3ms/step - loss: 0.3339 - accuracy: 0.8811 - val_loss: 0.3341 - val_accuracy: 0.8845\n",
      "Epoch 15/50\n",
      "48000/48000 [==============================] - 154s 3ms/step - loss: 0.3267 - accuracy: 0.8835 - val_loss: 0.3317 - val_accuracy: 0.8822\n",
      "Epoch 16/50\n",
      "48000/48000 [==============================] - 163s 3ms/step - loss: 0.3196 - accuracy: 0.8844 - val_loss: 0.3343 - val_accuracy: 0.8808\n",
      "Epoch 17/50\n",
      "48000/48000 [==============================] - 153s 3ms/step - loss: 0.3163 - accuracy: 0.8863 - val_loss: 0.3177 - val_accuracy: 0.8864\n",
      "Epoch 18/50\n",
      "48000/48000 [==============================] - 159s 3ms/step - loss: 0.3094 - accuracy: 0.8891 - val_loss: 0.3159 - val_accuracy: 0.8873\n",
      "Epoch 19/50\n",
      "48000/48000 [==============================] - 194s 4ms/step - loss: 0.3013 - accuracy: 0.8915 - val_loss: 0.3198 - val_accuracy: 0.8853\n",
      "Epoch 20/50\n",
      "48000/48000 [==============================] - 185s 4ms/step - loss: 0.2981 - accuracy: 0.8926 - val_loss: 0.3046 - val_accuracy: 0.8915\n",
      "Epoch 21/50\n",
      "48000/48000 [==============================] - 182s 4ms/step - loss: 0.2935 - accuracy: 0.8944 - val_loss: 0.3053 - val_accuracy: 0.8932\n",
      "Epoch 22/50\n",
      "48000/48000 [==============================] - 165s 3ms/step - loss: 0.2876 - accuracy: 0.8965 - val_loss: 0.3038 - val_accuracy: 0.8942\n",
      "Epoch 23/50\n",
      "48000/48000 [==============================] - 168s 3ms/step - loss: 0.2817 - accuracy: 0.8991 - val_loss: 0.2951 - val_accuracy: 0.8965\n",
      "Epoch 24/50\n",
      "48000/48000 [==============================] - 153s 3ms/step - loss: 0.2781 - accuracy: 0.8992 - val_loss: 0.2908 - val_accuracy: 0.8956\n",
      "Epoch 25/50\n",
      "48000/48000 [==============================] - 153s 3ms/step - loss: 0.2728 - accuracy: 0.9023 - val_loss: 0.2969 - val_accuracy: 0.8965\n",
      "Epoch 26/50\n",
      "48000/48000 [==============================] - 153s 3ms/step - loss: 0.2692 - accuracy: 0.9026 - val_loss: 0.2920 - val_accuracy: 0.8980\n",
      "Epoch 27/50\n",
      "48000/48000 [==============================] - 152s 3ms/step - loss: 0.2663 - accuracy: 0.9043 - val_loss: 0.2904 - val_accuracy: 0.8947\n",
      "Epoch 28/50\n",
      "48000/48000 [==============================] - 152s 3ms/step - loss: 0.2603 - accuracy: 0.9066 - val_loss: 0.2822 - val_accuracy: 0.8986\n",
      "Epoch 29/50\n",
      "48000/48000 [==============================] - 152s 3ms/step - loss: 0.2577 - accuracy: 0.9065 - val_loss: 0.2799 - val_accuracy: 0.8988\n",
      "Epoch 30/50\n",
      "48000/48000 [==============================] - 152s 3ms/step - loss: 0.2534 - accuracy: 0.9091 - val_loss: 0.2804 - val_accuracy: 0.8996\n",
      "Epoch 31/50\n",
      "48000/48000 [==============================] - 152s 3ms/step - loss: 0.2522 - accuracy: 0.9090 - val_loss: 0.2720 - val_accuracy: 0.9037\n",
      "Epoch 32/50\n",
      "48000/48000 [==============================] - 152s 3ms/step - loss: 0.2457 - accuracy: 0.9109 - val_loss: 0.2704 - val_accuracy: 0.9057\n",
      "Epoch 33/50\n",
      "48000/48000 [==============================] - 152s 3ms/step - loss: 0.2420 - accuracy: 0.9123 - val_loss: 0.2703 - val_accuracy: 0.9046\n",
      "Epoch 34/50\n",
      "48000/48000 [==============================] - 152s 3ms/step - loss: 0.2378 - accuracy: 0.9145 - val_loss: 0.2719 - val_accuracy: 0.9034\n",
      "Epoch 35/50\n",
      "48000/48000 [==============================] - 152s 3ms/step - loss: 0.2341 - accuracy: 0.9146 - val_loss: 0.2757 - val_accuracy: 0.9024\n",
      "Epoch 36/50\n",
      "48000/48000 [==============================] - 151s 3ms/step - loss: 0.2315 - accuracy: 0.9162 - val_loss: 0.2697 - val_accuracy: 0.9053\n",
      "Epoch 37/50\n",
      "48000/48000 [==============================] - 152s 3ms/step - loss: 0.2276 - accuracy: 0.9183 - val_loss: 0.2624 - val_accuracy: 0.9082\n",
      "Epoch 38/50\n",
      "48000/48000 [==============================] - 152s 3ms/step - loss: 0.2248 - accuracy: 0.9180 - val_loss: 0.2643 - val_accuracy: 0.9051\n",
      "Epoch 39/50\n",
      "48000/48000 [==============================] - 151s 3ms/step - loss: 0.2223 - accuracy: 0.9194 - val_loss: 0.2580 - val_accuracy: 0.9120\n",
      "Epoch 40/50\n",
      "48000/48000 [==============================] - 152s 3ms/step - loss: 0.2178 - accuracy: 0.9213 - val_loss: 0.2641 - val_accuracy: 0.9072\n",
      "Epoch 41/50\n",
      "48000/48000 [==============================] - 151s 3ms/step - loss: 0.2156 - accuracy: 0.9213 - val_loss: 0.2624 - val_accuracy: 0.9066\n",
      "Epoch 42/50\n",
      "48000/48000 [==============================] - 156s 3ms/step - loss: 0.2115 - accuracy: 0.9224 - val_loss: 0.2525 - val_accuracy: 0.9118\n",
      "Epoch 43/50\n",
      "48000/48000 [==============================] - 154s 3ms/step - loss: 0.2095 - accuracy: 0.9237 - val_loss: 0.2576 - val_accuracy: 0.9103\n",
      "Epoch 44/50\n",
      "48000/48000 [==============================] - 153s 3ms/step - loss: 0.2035 - accuracy: 0.9274 - val_loss: 0.2540 - val_accuracy: 0.9093\n",
      "Epoch 45/50\n",
      "48000/48000 [==============================] - 153s 3ms/step - loss: 0.2055 - accuracy: 0.9254 - val_loss: 0.2572 - val_accuracy: 0.9118\n",
      "Epoch 46/50\n",
      "48000/48000 [==============================] - 153s 3ms/step - loss: 0.2031 - accuracy: 0.9275 - val_loss: 0.2488 - val_accuracy: 0.9131\n",
      "Epoch 47/50\n",
      "48000/48000 [==============================] - 153s 3ms/step - loss: 0.1997 - accuracy: 0.9278 - val_loss: 0.2514 - val_accuracy: 0.9118\n",
      "Epoch 48/50\n",
      "48000/48000 [==============================] - 152s 3ms/step - loss: 0.1958 - accuracy: 0.9298 - val_loss: 0.2493 - val_accuracy: 0.9138\n",
      "Epoch 49/50\n",
      "48000/48000 [==============================] - 154s 3ms/step - loss: 0.1938 - accuracy: 0.9293 - val_loss: 0.2499 - val_accuracy: 0.9128\n",
      "Epoch 50/50\n",
      "48000/48000 [==============================] - 153s 3ms/step - loss: 0.1913 - accuracy: 0.9305 - val_loss: 0.2516 - val_accuracy: 0.9106\n"
     ]
    }
   ],
   "source": [
    "history_2 = cnn_model_2.fit(X_train, y_train,\n",
    "          batch_size= 300,\n",
    "          epochs=50,\n",
    "          verbose=1,\n",
    "          validation_data=(X_validate, y_validate))"
   ]
  },
  {
   "cell_type": "code",
   "execution_count": 80,
   "metadata": {},
   "outputs": [
    {
     "name": "stdout",
     "output_type": "stream",
     "text": [
      "Test loss: 41.826256401438286\n",
      "Test accuracy: 87.51000165939331\n"
     ]
    }
   ],
   "source": [
    "score = cnn_model_2.evaluate(X_test, y_Test, verbose=0)\n",
    "print('Test loss:', score[0])\n",
    "print('Test accuracy:', score[1]*100)"
   ]
  },
  {
   "cell_type": "code",
   "execution_count": 82,
   "metadata": {},
   "outputs": [
    {
     "data": {
      "image/png": "[encoded data removed]",
      "text/plain": [
       "<Figure size 1296x576 with 2 Axes>"
      ]
     },
     "metadata": {
      "needs_background": "light"
     },
     "output_type": "display_data"
    }
   ],
   "source": [
    "plt.figure(figsize = (18,8))\n",
    "plt.subplot(121)\n",
    "plt.plot(history_2.history['loss'], color='darkcyan', label=\"Training loss\")\n",
    "plt.plot(history_2.history['val_loss'], color='maroon', label=\"validation loss\",)\n",
    "plt.xlabel('Epochs')\n",
    "plt.ylabel('loss')\n",
    "plt.legend(loc='best', shadow=True)\n",
    "plt.title('2-Convolution Layer Loss')\n",
    "plt.subplot(122)\n",
    "plt.plot(history_2.history['accuracy'], color='darkcyan', label=\"Training accuracy\")\n",
    "plt.plot(history_2.history['val_accuracy'], color='maroon',label=\"Validation accuracy\")\n",
    "plt.xlabel('Epochs')\n",
    "plt.ylabel('accuracy')\n",
    "plt.legend(loc='best', shadow=True)\n",
    "plt.title('2-Convolution Layer Accuracy')\n",
    "plt.show()"
   ]
  },
  {
   "cell_type": "code",
   "execution_count": 83,
   "metadata": {},
   "outputs": [],
   "source": [
    "cnn_model_4 = Sequential()\n",
    "\n",
    "cnn_model_4.add(Conv2D(32, 3, padding='same', activation='relu', input_shape=input_shape))\n",
    "cnn_model_4.add(Dropout(0.4))\n",
    "cnn_model_4.add(Conv2D(64, 3, padding='same', activation='relu'))\n",
    "cnn_model_4.add(MaxPooling2D(2))\n",
    "\n",
    "cnn_model_4.add(Conv2D(128, 3, padding='same', activation ='relu'))\n",
    "cnn_model_4.add(Dropout(0.4))\n",
    "cnn_model_4.add(Conv2D(256, 3, padding='same', activation ='relu'))\n",
    "cnn_model_4.add(MaxPooling2D(2, 2))\n",
    "cnn_model_4.add(Dropout(0.4))\n",
    "\n",
    "cnn_model_4.add(Flatten())\n",
    "cnn_model_4.add(Dense(128, activation='relu'))\n",
    "cnn_model_4.add(Dropout(0.5))\n",
    "\n",
    "cnn_model_4.add(Dense(256, activation='relu'))\n",
    "cnn_model_4.add(Dropout(0.5))\n",
    "\n",
    "cnn_model_4.add(Dense(512, activation='relu'))\n",
    "cnn_model_4.add(Dropout(0.5))\n",
    "\n",
    "cnn_model_4.add(Dense(10, activation='softmax'))"
   ]
  },
  {
   "cell_type": "code",
   "execution_count": 84,
   "metadata": {},
   "outputs": [
    {
     "name": "stdout",
     "output_type": "stream",
     "text": [
      "Model: \"sequential_10\"\n",
      "_________________________________________________________________\n",
      "Layer (type)                 Output Shape              Param #   \n",
      "=================================================================\n",
      "conv2d_8 (Conv2D)            (None, 28, 28, 32)        320       \n",
      "_________________________________________________________________\n",
      "dropout_15 (Dropout)         (None, 28, 28, 32)        0         \n",
      "_________________________________________________________________\n",
      "conv2d_9 (Conv2D)            (None, 28, 28, 64)        18496     \n",
      "_________________________________________________________________\n",
      "max_pooling2d_7 (MaxPooling2 (None, 14, 14, 64)        0         \n",
      "_________________________________________________________________\n",
      "conv2d_10 (Conv2D)           (None, 14, 14, 128)       73856     \n",
      "_________________________________________________________________\n",
      "dropout_16 (Dropout)         (None, 14, 14, 128)       0         \n",
      "_________________________________________________________________\n",
      "conv2d_11 (Conv2D)           (None, 14, 14, 256)       295168    \n",
      "_________________________________________________________________\n",
      "max_pooling2d_8 (MaxPooling2 (None, 7, 7, 256)         0         \n",
      "_________________________________________________________________\n",
      "dropout_17 (Dropout)         (None, 7, 7, 256)         0         \n",
      "_________________________________________________________________\n",
      "flatten_7 (Flatten)          (None, 12544)             0         \n",
      "_________________________________________________________________\n",
      "dense_20 (Dense)             (None, 128)               1605760   \n",
      "_________________________________________________________________\n",
      "dropout_18 (Dropout)         (None, 128)               0         \n",
      "_________________________________________________________________\n",
      "dense_21 (Dense)             (None, 256)               33024     \n",
      "_________________________________________________________________\n",
      "dropout_19 (Dropout)         (None, 256)               0         \n",
      "_________________________________________________________________\n",
      "dense_22 (Dense)             (None, 512)               131584    \n",
      "_________________________________________________________________\n",
      "dropout_20 (Dropout)         (None, 512)               0         \n",
      "_________________________________________________________________\n",
      "dense_23 (Dense)             (None, 10)                5130      \n",
      "=================================================================\n",
      "Total params: 2,163,338\n",
      "Trainable params: 2,163,338\n",
      "Non-trainable params: 0\n",
      "_________________________________________________________________\n"
     ]
    }
   ],
   "source": [
    "cnn_model_4.summary()"
   ]
  },
  {
   "cell_type": "code",
   "execution_count": 85,
   "metadata": {},
   "outputs": [],
   "source": [
    "cnn_model_4.compile(optimizer=Adam(lr = 0.0001),\n",
    "              loss = 'categorical_crossentropy',\n",
    "              metrics=['accuracy'])"
   ]
  },
  {
   "cell_type": "code",
   "execution_count": 86,
   "metadata": {},
   "outputs": [
    {
     "name": "stdout",
     "output_type": "stream",
     "text": [
      "Train on 48000 samples, validate on 12000 samples\n",
      "Epoch 1/90\n",
      "48000/48000 [==============================] - 781s 16ms/step - loss: 1.7277 - accuracy: 0.3359 - val_loss: 1.0968 - val_accuracy: 0.5873\n",
      "Epoch 2/90\n",
      "48000/48000 [==============================] - 643s 13ms/step - loss: 1.0319 - accuracy: 0.6044 - val_loss: 0.6606 - val_accuracy: 0.7537\n",
      "Epoch 3/90\n",
      "48000/48000 [==============================] - 642s 13ms/step - loss: 0.7765 - accuracy: 0.7138 - val_loss: 0.5652 - val_accuracy: 0.7835\n",
      "Epoch 4/90\n",
      "48000/48000 [==============================] - 636s 13ms/step - loss: 0.6889 - accuracy: 0.7479 - val_loss: 0.5250 - val_accuracy: 0.8023\n",
      "Epoch 5/90\n",
      "48000/48000 [==============================] - 642s 13ms/step - loss: 0.6383 - accuracy: 0.7682 - val_loss: 0.4915 - val_accuracy: 0.8188\n",
      "Epoch 6/90\n",
      "48000/48000 [==============================] - 635s 13ms/step - loss: 0.5992 - accuracy: 0.7853 - val_loss: 0.4611 - val_accuracy: 0.8388\n",
      "Epoch 7/90\n",
      "48000/48000 [==============================] - 635s 13ms/step - loss: 0.5605 - accuracy: 0.7995 - val_loss: 0.4364 - val_accuracy: 0.8468\n",
      "Epoch 8/90\n",
      "48000/48000 [==============================] - 643s 13ms/step - loss: 0.5344 - accuracy: 0.8117 - val_loss: 0.4148 - val_accuracy: 0.8543\n",
      "Epoch 9/90\n",
      "48000/48000 [==============================] - 637s 13ms/step - loss: 0.5105 - accuracy: 0.8206 - val_loss: 0.4008 - val_accuracy: 0.8607\n",
      "Epoch 10/90\n",
      "48000/48000 [==============================] - 635s 13ms/step - loss: 0.4957 - accuracy: 0.8262 - val_loss: 0.3816 - val_accuracy: 0.8666\n",
      "Epoch 11/90\n",
      "48000/48000 [==============================] - 635s 13ms/step - loss: 0.4749 - accuracy: 0.8320 - val_loss: 0.3659 - val_accuracy: 0.8713\n",
      "Epoch 12/90\n",
      "48000/48000 [==============================] - 640s 13ms/step - loss: 0.4586 - accuracy: 0.8400 - val_loss: 0.3544 - val_accuracy: 0.8752\n",
      "Epoch 13/90\n",
      "48000/48000 [==============================] - 636s 13ms/step - loss: 0.4432 - accuracy: 0.8462 - val_loss: 0.3516 - val_accuracy: 0.8783\n",
      "Epoch 14/90\n",
      "48000/48000 [==============================] - 636s 13ms/step - loss: 0.4302 - accuracy: 0.8492 - val_loss: 0.3490 - val_accuracy: 0.8779\n",
      "Epoch 15/90\n",
      "48000/48000 [==============================] - 636s 13ms/step - loss: 0.4205 - accuracy: 0.8529 - val_loss: 0.3262 - val_accuracy: 0.8870\n",
      "Epoch 16/90\n",
      "48000/48000 [==============================] - 642s 13ms/step - loss: 0.4093 - accuracy: 0.8559 - val_loss: 0.3255 - val_accuracy: 0.8857\n",
      "Epoch 17/90\n",
      "48000/48000 [==============================] - 766s 16ms/step - loss: 0.3952 - accuracy: 0.8639 - val_loss: 0.3177 - val_accuracy: 0.8870\n",
      "Epoch 18/90\n",
      "48000/48000 [==============================] - 767s 16ms/step - loss: 0.3900 - accuracy: 0.8630 - val_loss: 0.3171 - val_accuracy: 0.8867\n",
      "Epoch 19/90\n",
      "48000/48000 [==============================] - 746s 16ms/step - loss: 0.3796 - accuracy: 0.8679 - val_loss: 0.3072 - val_accuracy: 0.8893\n",
      "Epoch 20/90\n",
      "48000/48000 [==============================] - 714s 15ms/step - loss: 0.3718 - accuracy: 0.8707 - val_loss: 0.3022 - val_accuracy: 0.8934\n",
      "Epoch 21/90\n",
      "48000/48000 [==============================] - 740s 15ms/step - loss: 0.3653 - accuracy: 0.8728 - val_loss: 0.2947 - val_accuracy: 0.8969\n",
      "Epoch 22/90\n",
      "48000/48000 [==============================] - 742s 15ms/step - loss: 0.3545 - accuracy: 0.8759 - val_loss: 0.2927 - val_accuracy: 0.8945\n",
      "Epoch 23/90\n",
      "48000/48000 [==============================] - 917s 19ms/step - loss: 0.3503 - accuracy: 0.8772 - val_loss: 0.2832 - val_accuracy: 0.8996\n",
      "Epoch 24/90\n",
      "48000/48000 [==============================] - 761s 16ms/step - loss: 0.3408 - accuracy: 0.8806 - val_loss: 0.2839 - val_accuracy: 0.8997\n",
      "Epoch 25/90\n",
      "48000/48000 [==============================] - 922s 19ms/step - loss: 0.3370 - accuracy: 0.8832 - val_loss: 0.2816 - val_accuracy: 0.8992\n",
      "Epoch 26/90\n",
      "48000/48000 [==============================] - 722s 15ms/step - loss: 0.3301 - accuracy: 0.8845 - val_loss: 0.2752 - val_accuracy: 0.9028\n",
      "Epoch 27/90\n",
      "48000/48000 [==============================] - 653s 14ms/step - loss: 0.3258 - accuracy: 0.8856 - val_loss: 0.2746 - val_accuracy: 0.9013\n",
      "Epoch 28/90\n",
      "48000/48000 [==============================] - 626s 13ms/step - loss: 0.3218 - accuracy: 0.8880 - val_loss: 0.2701 - val_accuracy: 0.9045\n",
      "Epoch 29/90\n",
      "48000/48000 [==============================] - 623s 13ms/step - loss: 0.3137 - accuracy: 0.8885 - val_loss: 0.2659 - val_accuracy: 0.9039\n",
      "Epoch 30/90\n",
      "48000/48000 [==============================] - 625s 13ms/step - loss: 0.3087 - accuracy: 0.8910 - val_loss: 0.2681 - val_accuracy: 0.9044\n",
      "Epoch 31/90\n",
      "48000/48000 [==============================] - 625s 13ms/step - loss: 0.3023 - accuracy: 0.8935 - val_loss: 0.2593 - val_accuracy: 0.9063\n",
      "Epoch 32/90\n",
      "48000/48000 [==============================] - 624s 13ms/step - loss: 0.2991 - accuracy: 0.8950 - val_loss: 0.2570 - val_accuracy: 0.9066\n",
      "Epoch 33/90\n",
      "48000/48000 [==============================] - 626s 13ms/step - loss: 0.2955 - accuracy: 0.8953 - val_loss: 0.2536 - val_accuracy: 0.9092\n",
      "Epoch 34/90\n",
      "48000/48000 [==============================] - 623s 13ms/step - loss: 0.2919 - accuracy: 0.8976 - val_loss: 0.2532 - val_accuracy: 0.9082\n",
      "Epoch 35/90\n",
      "48000/48000 [==============================] - 631s 13ms/step - loss: 0.2896 - accuracy: 0.8975 - val_loss: 0.2523 - val_accuracy: 0.9099\n",
      "Epoch 36/90\n",
      "48000/48000 [==============================] - 624s 13ms/step - loss: 0.2852 - accuracy: 0.8986 - val_loss: 0.2532 - val_accuracy: 0.9078\n",
      "Epoch 37/90\n",
      "48000/48000 [==============================] - 624s 13ms/step - loss: 0.2792 - accuracy: 0.9010 - val_loss: 0.2452 - val_accuracy: 0.9122\n",
      "Epoch 38/90\n",
      "48000/48000 [==============================] - 624s 13ms/step - loss: 0.2770 - accuracy: 0.9031 - val_loss: 0.2475 - val_accuracy: 0.9108\n",
      "Epoch 39/90\n",
      "48000/48000 [==============================] - 622s 13ms/step - loss: 0.2742 - accuracy: 0.9034 - val_loss: 0.2481 - val_accuracy: 0.9100\n",
      "Epoch 40/90\n",
      "48000/48000 [==============================] - 654s 14ms/step - loss: 0.2706 - accuracy: 0.9047 - val_loss: 0.2425 - val_accuracy: 0.9123\n",
      "Epoch 41/90\n",
      "48000/48000 [==============================] - 623s 13ms/step - loss: 0.2700 - accuracy: 0.9043 - val_loss: 0.2403 - val_accuracy: 0.9135\n",
      "Epoch 42/90\n",
      "48000/48000 [==============================] - 620s 13ms/step - loss: 0.2617 - accuracy: 0.9073 - val_loss: 0.2378 - val_accuracy: 0.9150\n",
      "Epoch 43/90\n",
      "48000/48000 [==============================] - 685s 14ms/step - loss: 0.2613 - accuracy: 0.9089 - val_loss: 0.2406 - val_accuracy: 0.9137\n",
      "Epoch 44/90\n",
      "48000/48000 [==============================] - 650s 14ms/step - loss: 0.2530 - accuracy: 0.9096 - val_loss: 0.2383 - val_accuracy: 0.9146\n",
      "Epoch 45/90\n",
      "48000/48000 [==============================] - 666s 14ms/step - loss: 0.2527 - accuracy: 0.9103 - val_loss: 0.2385 - val_accuracy: 0.9131\n",
      "Epoch 46/90\n",
      "48000/48000 [==============================] - 645s 13ms/step - loss: 0.2488 - accuracy: 0.9119 - val_loss: 0.2373 - val_accuracy: 0.9138\n",
      "Epoch 47/90\n",
      "48000/48000 [==============================] - 620s 13ms/step - loss: 0.2458 - accuracy: 0.9122 - val_loss: 0.2295 - val_accuracy: 0.9183\n",
      "Epoch 48/90\n",
      "48000/48000 [==============================] - 618s 13ms/step - loss: 0.2427 - accuracy: 0.9143 - val_loss: 0.2255 - val_accuracy: 0.9185\n",
      "Epoch 49/90\n",
      "48000/48000 [==============================] - 616s 13ms/step - loss: 0.2426 - accuracy: 0.9134 - val_loss: 0.2310 - val_accuracy: 0.9164\n",
      "Epoch 50/90\n",
      "48000/48000 [==============================] - 615s 13ms/step - loss: 0.2388 - accuracy: 0.9151 - val_loss: 0.2289 - val_accuracy: 0.9157\n",
      "Epoch 51/90\n",
      "48000/48000 [==============================] - 637s 13ms/step - loss: 0.2333 - accuracy: 0.9163 - val_loss: 0.2246 - val_accuracy: 0.9189\n",
      "Epoch 52/90\n",
      "48000/48000 [==============================] - 618s 13ms/step - loss: 0.2353 - accuracy: 0.9175 - val_loss: 0.2218 - val_accuracy: 0.9211\n",
      "Epoch 53/90\n",
      "48000/48000 [==============================] - 618s 13ms/step - loss: 0.2305 - accuracy: 0.9171 - val_loss: 0.2257 - val_accuracy: 0.9183\n",
      "Epoch 54/90\n",
      "48000/48000 [==============================] - 622s 13ms/step - loss: 0.2263 - accuracy: 0.9201 - val_loss: 0.2263 - val_accuracy: 0.9181\n",
      "Epoch 55/90\n"
     ]
    },
    {
     "name": "stdout",
     "output_type": "stream",
     "text": [
      "48000/48000 [==============================] - 619s 13ms/step - loss: 0.2264 - accuracy: 0.9213 - val_loss: 0.2255 - val_accuracy: 0.9193\n",
      "Epoch 56/90\n",
      "48000/48000 [==============================] - 637s 13ms/step - loss: 0.2243 - accuracy: 0.9202 - val_loss: 0.2255 - val_accuracy: 0.9183\n",
      "Epoch 57/90\n",
      "48000/48000 [==============================] - 652s 14ms/step - loss: 0.2190 - accuracy: 0.9213 - val_loss: 0.2221 - val_accuracy: 0.9207\n",
      "Epoch 58/90\n",
      "48000/48000 [==============================] - 657s 14ms/step - loss: 0.2143 - accuracy: 0.9225 - val_loss: 0.2155 - val_accuracy: 0.9231\n",
      "Epoch 59/90\n",
      "48000/48000 [==============================] - 620s 13ms/step - loss: 0.2180 - accuracy: 0.9225 - val_loss: 0.2384 - val_accuracy: 0.9147\n",
      "Epoch 60/90\n",
      "48000/48000 [==============================] - 631s 13ms/step - loss: 0.2161 - accuracy: 0.9237 - val_loss: 0.2155 - val_accuracy: 0.9231\n",
      "Epoch 61/90\n",
      "48000/48000 [==============================] - 836s 17ms/step - loss: 0.2116 - accuracy: 0.9251 - val_loss: 0.2161 - val_accuracy: 0.9221\n",
      "Epoch 62/90\n",
      "48000/48000 [==============================] - 882s 18ms/step - loss: 0.2087 - accuracy: 0.9255 - val_loss: 0.2219 - val_accuracy: 0.9202\n",
      "Epoch 63/90\n",
      "48000/48000 [==============================] - 650s 14ms/step - loss: 0.2039 - accuracy: 0.9265 - val_loss: 0.2206 - val_accuracy: 0.9216\n",
      "Epoch 64/90\n",
      "48000/48000 [==============================] - 626s 13ms/step - loss: 0.2024 - accuracy: 0.9268 - val_loss: 0.2179 - val_accuracy: 0.9227\n",
      "Epoch 65/90\n",
      "48000/48000 [==============================] - 683s 14ms/step - loss: 0.2014 - accuracy: 0.9274 - val_loss: 0.2133 - val_accuracy: 0.9248\n",
      "Epoch 66/90\n",
      "48000/48000 [==============================] - 759s 16ms/step - loss: 0.2012 - accuracy: 0.9274 - val_loss: 0.2105 - val_accuracy: 0.9263\n",
      "Epoch 67/90\n",
      "48000/48000 [==============================] - 671s 14ms/step - loss: 0.1967 - accuracy: 0.9303 - val_loss: 0.2213 - val_accuracy: 0.9220\n",
      "Epoch 68/90\n",
      "48000/48000 [==============================] - 621s 13ms/step - loss: 0.1943 - accuracy: 0.9307 - val_loss: 0.2108 - val_accuracy: 0.9267\n",
      "Epoch 69/90\n",
      "48000/48000 [==============================] - 623s 13ms/step - loss: 0.1968 - accuracy: 0.9302 - val_loss: 0.2070 - val_accuracy: 0.9262\n",
      "Epoch 70/90\n",
      "48000/48000 [==============================] - 620s 13ms/step - loss: 0.1912 - accuracy: 0.9313 - val_loss: 0.2197 - val_accuracy: 0.9218\n",
      "Epoch 71/90\n",
      "48000/48000 [==============================] - 619s 13ms/step - loss: 0.1908 - accuracy: 0.9301 - val_loss: 0.2084 - val_accuracy: 0.9268\n",
      "Epoch 72/90\n",
      "48000/48000 [==============================] - 619s 13ms/step - loss: 0.1891 - accuracy: 0.9325 - val_loss: 0.2079 - val_accuracy: 0.9268\n",
      "Epoch 73/90\n",
      "48000/48000 [==============================] - 621s 13ms/step - loss: 0.1867 - accuracy: 0.9323 - val_loss: 0.2109 - val_accuracy: 0.9269\n",
      "Epoch 74/90\n",
      "48000/48000 [==============================] - 620s 13ms/step - loss: 0.1860 - accuracy: 0.9331 - val_loss: 0.2157 - val_accuracy: 0.9253\n",
      "Epoch 75/90\n",
      "48000/48000 [==============================] - 619s 13ms/step - loss: 0.1859 - accuracy: 0.9336 - val_loss: 0.2096 - val_accuracy: 0.9266\n",
      "Epoch 76/90\n",
      "48000/48000 [==============================] - 625s 13ms/step - loss: 0.1814 - accuracy: 0.9356 - val_loss: 0.2084 - val_accuracy: 0.9268\n",
      "Epoch 77/90\n",
      "48000/48000 [==============================] - 623s 13ms/step - loss: 0.1836 - accuracy: 0.9344 - val_loss: 0.2130 - val_accuracy: 0.9253\n",
      "Epoch 78/90\n",
      "48000/48000 [==============================] - 618s 13ms/step - loss: 0.1761 - accuracy: 0.9372 - val_loss: 0.2097 - val_accuracy: 0.9261\n",
      "Epoch 79/90\n",
      "48000/48000 [==============================] - 626s 13ms/step - loss: 0.1773 - accuracy: 0.9364 - val_loss: 0.2082 - val_accuracy: 0.9277\n",
      "Epoch 80/90\n",
      "48000/48000 [==============================] - 619s 13ms/step - loss: 0.1734 - accuracy: 0.9371 - val_loss: 0.2082 - val_accuracy: 0.9280\n",
      "Epoch 81/90\n",
      "48000/48000 [==============================] - 669s 14ms/step - loss: 0.1736 - accuracy: 0.9374 - val_loss: 0.2085 - val_accuracy: 0.9287\n",
      "Epoch 82/90\n",
      "48000/48000 [==============================] - 621s 13ms/step - loss: 0.1713 - accuracy: 0.9388 - val_loss: 0.2086 - val_accuracy: 0.9271\n",
      "Epoch 83/90\n",
      "48000/48000 [==============================] - 624s 13ms/step - loss: 0.1693 - accuracy: 0.9395 - val_loss: 0.2065 - val_accuracy: 0.9284\n",
      "Epoch 84/90\n",
      "48000/48000 [==============================] - 684s 14ms/step - loss: 0.1691 - accuracy: 0.9388 - val_loss: 0.2027 - val_accuracy: 0.9297\n",
      "Epoch 85/90\n",
      "48000/48000 [==============================] - 624s 13ms/step - loss: 0.1701 - accuracy: 0.9379 - val_loss: 0.2039 - val_accuracy: 0.9288\n",
      "Epoch 86/90\n",
      "48000/48000 [==============================] - 797s 17ms/step - loss: 0.1660 - accuracy: 0.9404 - val_loss: 0.2029 - val_accuracy: 0.9307\n",
      "Epoch 87/90\n",
      "48000/48000 [==============================] - 673s 14ms/step - loss: 0.1649 - accuracy: 0.9405 - val_loss: 0.2032 - val_accuracy: 0.9300\n",
      "Epoch 88/90\n",
      "48000/48000 [==============================] - 631s 13ms/step - loss: 0.1621 - accuracy: 0.9415 - val_loss: 0.2080 - val_accuracy: 0.9275\n",
      "Epoch 89/90\n",
      "48000/48000 [==============================] - 618s 13ms/step - loss: 0.1644 - accuracy: 0.9413 - val_loss: 0.2059 - val_accuracy: 0.9284\n",
      "Epoch 90/90\n",
      "48000/48000 [==============================] - 618s 13ms/step - loss: 0.1600 - accuracy: 0.9424 - val_loss: 0.2074 - val_accuracy: 0.9288\n"
     ]
    }
   ],
   "source": [
    "history_4 = cnn_model_4.fit(X_train, y_train,\n",
    "                            validation_data=(X_validate, y_validate),\n",
    "                            epochs=90, \n",
    "                            batch_size=300)"
   ]
  },
  {
   "cell_type": "code",
   "execution_count": null,
   "metadata": {},
   "outputs": [],
   "source": []
  }
 ],
 "metadata": {
  "kernelspec": {
   "display_name": "Python 3",
   "language": "python",
   "name": "python3"
  },
  "language_info": {
   "codemirror_mode": {
    "name": "ipython",
    "version": 3
   },
   "file_extension": ".py",
   "mimetype": "text/x-python",
   "name": "python",
   "nbconvert_exporter": "python",
   "pygments_lexer": "ipython3",
   "version": "3.7.1"
  }
 },
 "nbformat": 4,
 "nbformat_minor": 4
}
